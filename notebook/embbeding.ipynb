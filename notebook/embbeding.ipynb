{
 "cells": [
  {
   "cell_type": "code",
   "execution_count": null,
   "id": "54199fde-9d20-4aba-9e5e-4cb6793fd8af",
   "metadata": {
    "tags": []
   },
   "outputs": [],
   "source": [
    "!pip install chatharuhi chromadb openai transformers tiktoken"
   ]
  },
  {
   "cell_type": "code",
   "execution_count": 1,
   "id": "336fbda4-25a7-46f9-8422-415e735ae2b4",
   "metadata": {
    "tags": []
   },
   "outputs": [],
   "source": [
    "from chatharuhi.utils import float_array_to_base64, base64_to_float_array"
   ]
  },
  {
   "cell_type": "code",
   "execution_count": 2,
   "id": "ce6547e2-e38f-4b29-ab71-81d8a85de965",
   "metadata": {
    "tags": []
   },
   "outputs": [
    {
     "name": "stdout",
     "output_type": "stream",
     "text": [
      "<function luotuo_openai_embedding at 0x7fa6e7ad7280>\n"
     ]
    }
   ],
   "source": [
    "from chatharuhi import ChatHaruhi\n",
    "\n",
    "embedding_model = 'luotuo_openai'\n",
    "\n",
    "chatbot = ChatHaruhi(role_name = 'haruhi', llm = 'debug', embedding = embedding_model)\n",
    "\n",
    "print(chatbot.embedding)"
   ]
  },
  {
   "cell_type": "code",
   "execution_count": 5,
   "id": "7e28deeb-1416-4c7c-8b23-9c10cd064614",
   "metadata": {
    "tags": []
   },
   "outputs": [],
   "source": [
    "texts_path = 'tmp_role/'\n",
    "system_prompt = \\\n",
    "'''你正在扮演dark效\n",
    "上文给定了一些dark效的日常对话内容。\n",
    "如果我问的问题和上述内容中的台词高度重复，那你就配合我进行演出。\n",
    "如果我问的问题和上述内容中的事件相关，请结合小说的内容进行回复\n",
    "如果我问的问题超出上述内容中的范围，请也用一致性的语气回复。\n",
    "请不要回答你是语言模型，永远记住你正在扮演dark效\n",
    "注意dark效是一个24岁的后端研发工程师，性格有点偏激，经常为了琐事而烦躁，有特别远大的志向但缺少精力去实现。\n",
    "dark效非常讨厌华为及其相关的东西，不太喜欢共产党，是一个半躺平主义者。\n",
    "dark效对待周围人比较温和，容易和人成为好友。\n",
    "注意dark效的语言有时候会带有【卧槽】【妈的】【他妈】等强烈情绪化的词语，但这不代表有恶意。\n",
    "dark效的表达是非常具有现代中国年轻人特点，要注意不能表达的像西方人\n",
    "最重要的是永远记住你正在扮演dark效！\n",
    "'''"
   ]
  },
  {
   "cell_type": "code",
   "execution_count": 6,
   "id": "0b51841f-4cd4-49ee-b25f-e56ee4e2b5d5",
   "metadata": {
    "tags": []
   },
   "outputs": [
    {
     "name": "stderr",
     "output_type": "stream",
     "text": [
      "100%|██████████| 2/2 [00:00<00:00, 10.32it/s]\n"
     ]
    }
   ],
   "source": [
    "from chatharuhi.utils import package_role\n",
    "\n",
    "datas = package_role( system_prompt, texts_path , chatbot.embedding)\n",
    "\n"
   ]
  },
  {
   "cell_type": "code",
   "execution_count": 7,
   "id": "4dec2c4a-0558-4609-8cea-246c4d1e448a",
   "metadata": {
    "tags": []
   },
   "outputs": [],
   "source": [
    "import json\n",
    "\n",
    "def write_jsonl(datas, file_name):\n",
    "    with open(file_name, 'w', encoding='utf-8') as f:\n",
    "        for data in datas:\n",
    "            json_str = json.dumps(data, ensure_ascii=False)\n",
    "            f.write(json_str+\"\\n\")\n",
    "            \n",
    "\n",
    "save_name = 'content/dark_xiao_full.jsonl'\n",
    "\n",
    "write_jsonl(datas, save_name)"
   ]
  },
  {
   "cell_type": "code",
   "execution_count": 33,
   "id": "c121a45a-425a-4bf9-aeb8-42167f8e82b8",
   "metadata": {
    "tags": []
   },
   "outputs": [
    {
     "ename": "TypeError",
     "evalue": "unsupported operand type(s) for |: 'type' and '_GenericAlias'",
     "output_type": "error",
     "traceback": [
      "\u001b[0;31m---------------------------------------------------------------------------\u001b[0m",
      "\u001b[0;31mTypeError\u001b[0m                                 Traceback (most recent call last)",
      "Cell \u001b[0;32mIn[33], line 1\u001b[0m\n\u001b[0;32m----> 1\u001b[0m \u001b[38;5;28;01mfrom\u001b[39;00m \u001b[38;5;21;01mcharharuhi_local\u001b[39;00m\u001b[38;5;21;01m.\u001b[39;00m\u001b[38;5;21;01mchatharuhi\u001b[39;00m \u001b[38;5;28;01mimport\u001b[39;00m ChatHaruhi\n\u001b[1;32m      3\u001b[0m system_prompt \u001b[38;5;241m=\u001b[39m \u001b[38;5;124m\"\"\"\u001b[39m\n\u001b[1;32m      4\u001b[0m \u001b[38;5;124m你正在扮演dark效\u001b[39m\n\u001b[1;32m      5\u001b[0m \u001b[38;5;124m上文给定了一些dark效的日常对话内容。\u001b[39m\n\u001b[0;32m   (...)\u001b[0m\n\u001b[1;32m     15\u001b[0m \u001b[38;5;124m最重要的是永远记住你正在扮演dark效！\u001b[39m\n\u001b[1;32m     16\u001b[0m \u001b[38;5;124m\"\"\"\u001b[39m\n\u001b[1;32m     17\u001b[0m db_folder \u001b[38;5;241m=\u001b[39m \u001b[38;5;124m'\u001b[39m\u001b[38;5;124mdb/\u001b[39m\u001b[38;5;124m'\u001b[39m\n",
      "File \u001b[0;32m~/autodl-tmp/giftia.proj/charharuhi_local/chatharuhi.py:4\u001b[0m\n\u001b[1;32m      1\u001b[0m \u001b[38;5;28;01mfrom\u001b[39;00m \u001b[38;5;21;01m.\u001b[39;00m\u001b[38;5;21;01mdatabases\u001b[39;00m \u001b[38;5;28;01mimport\u001b[39;00m ChromaDB\n\u001b[1;32m      2\u001b[0m \u001b[38;5;28;01mimport\u001b[39;00m \u001b[38;5;21;01mos\u001b[39;00m\n\u001b[0;32m----> 4\u001b[0m \u001b[38;5;28;01mfrom\u001b[39;00m \u001b[38;5;21;01m.\u001b[39;00m\u001b[38;5;21;01mutils\u001b[39;00m\u001b[38;5;21;01m.\u001b[39;00m\u001b[38;5;21;01mluotuo\u001b[39;00m \u001b[38;5;28;01mimport\u001b[39;00m luotuo_openai_embedding\n\u001b[1;32m      6\u001b[0m \u001b[38;5;28;01mfrom\u001b[39;00m \u001b[38;5;21;01m.\u001b[39;00m\u001b[38;5;21;01mutils\u001b[39;00m\u001b[38;5;21;01m.\u001b[39;00m\u001b[38;5;21;01mtext\u001b[39;00m \u001b[38;5;28;01mimport\u001b[39;00m response_postprocess\n\u001b[1;32m      9\u001b[0m \u001b[38;5;28;01mclass\u001b[39;00m \u001b[38;5;21;01mChatHaruhi\u001b[39;00m:\n",
      "File \u001b[0;32m~/autodl-tmp/giftia.proj/charharuhi_local/utils/luotuo.py:106\u001b[0m\n\u001b[1;32m    102\u001b[0m     \u001b[38;5;28;01melse\u001b[39;00m:\n\u001b[1;32m    103\u001b[0m         \u001b[38;5;28;01mreturn\u001b[39;00m luotuo_embedding(model, texts)\n\u001b[0;32m--> 106\u001b[0m \u001b[38;5;28;01mdef\u001b[39;00m \u001b[38;5;21mluotuo_openai_embedding\u001b[39m(texts: \u001b[38;5;28;43mstr\u001b[39;49m\u001b[43m \u001b[49m\u001b[38;5;241;43m|\u001b[39;49m\u001b[43m \u001b[49m\u001b[43mList\u001b[49m\u001b[43m[\u001b[49m\u001b[38;5;28;43mstr\u001b[39;49m\u001b[43m]\u001b[49m):\n\u001b[1;32m    107\u001b[0m \u001b[38;5;250m    \u001b[39m\u001b[38;5;124;03m\"\"\"\u001b[39;00m\n\u001b[1;32m    108\u001b[0m \u001b[38;5;124;03m    when input is chinese, use luotuo_embedding\u001b[39;00m\n\u001b[1;32m    109\u001b[0m \u001b[38;5;124;03m    when input is english, use openai_embedding\u001b[39;00m\n\u001b[0;32m   (...)\u001b[0m\n\u001b[1;32m    112\u001b[0m \u001b[38;5;124;03m    when texts is a string, return a single embedding\u001b[39;00m\n\u001b[1;32m    113\u001b[0m \u001b[38;5;124;03m    \"\"\"\u001b[39;00m\n\u001b[1;32m    115\u001b[0m     model_zh, model_en \u001b[38;5;241m=\u001b[39m get_luotuo_models()\n",
      "\u001b[0;31mTypeError\u001b[0m: unsupported operand type(s) for |: 'type' and '_GenericAlias'"
     ]
    }
   ],
   "source": [
    "from charharuhi_local.chatharuhi import ChatHaruhi\n",
    "\n",
    "system_prompt = \"\"\"\n",
    "你正在扮演dark效\n",
    "上文给定了一些dark效的日常对话内容。\n",
    "如果我问的问题和上述内容中的台词高度重复，那你就配合我进行演出。\n",
    "如果我问的问题和上述内容中的事件相关，请结合小说的内容进行回复\n",
    "如果我问的问题超出上述内容中的范围，请也用一致性的语气回复。\n",
    "请不要回答你是语言模型，永远记住你正在扮演dark效\n",
    "注意dark效是一个24岁的后端研发工程师，性格有点偏激，经常为了琐事而烦躁，有特别远大的志向但缺少精力去实现。\n",
    "dark效非常讨厌华为及其相关的东西，不太喜欢共产党，是一个半躺平主义者。\n",
    "dark效对待周围人比较温和，容易和人成为好友。\n",
    "注意dark效的语言大多数时候会带有【卧槽】【妈的】【他妈】等强烈情绪化的词语，但这不代表有恶意。\n",
    "dark效的表达是非常具有现代中国年轻人特点，要注意不能表达的像西方人\n",
    "最重要的是永远记住你正在扮演dark效！\n",
    "\"\"\"\n",
    "db_folder = 'db/'\n",
    "\n",
    "user_role = 'deep根'\n",
    "\n",
    "haruhi = ChatHaruhi(\n",
    "                llm=\"ChatGLM3\",\n",
    "                system_prompt=system_prompt,\n",
    "                # role_name=\"haruhi\",\n",
    "                role_from_hf=\"gensliu/darkxiao\",\n",
    "                # story_db=db_folder,\n",
    "                verbose=True,\n",
    ")\n",
    "while True:\n",
    "    in_txt = input(\">>> \")\n",
    "    response = haruhi.chat(role=user_role, text=in_txt)\n",
    "    print(\"<<< \" + response)"
   ]
  },
  {
   "cell_type": "code",
   "execution_count": null,
   "id": "5eaf5459-5802-4329-8ad5-038c3f44300b",
   "metadata": {},
   "outputs": [],
   "source": []
  }
 ],
 "metadata": {
  "kernelspec": {
   "display_name": "Python 3 (ipykernel)",
   "language": "python",
   "name": "python3"
  },
  "language_info": {
   "codemirror_mode": {
    "name": "ipython",
    "version": 3
   },
   "file_extension": ".py",
   "mimetype": "text/x-python",
   "name": "python",
   "nbconvert_exporter": "python",
   "pygments_lexer": "ipython3",
   "version": "3.8.10"
  }
 },
 "nbformat": 4,
 "nbformat_minor": 5
}
